{
 "cells": [
  {
   "cell_type": "code",
   "execution_count": 120,
   "metadata": {},
   "outputs": [],
   "source": [
    "import pandas as pd\n",
    "import numpy as np\n",
    "import matplotlib.pyplot as plt\n",
    "from bs4 import BeautifulSoup\n",
    "import datetime"
   ]
  },
  {
   "cell_type": "code",
   "execution_count": 64,
   "metadata": {},
   "outputs": [],
   "source": [
    "avg_factor_path = 'assets/movie_market.html'"
   ]
  },
  {
   "cell_type": "code",
   "execution_count": 138,
   "metadata": {},
   "outputs": [],
   "source": [
    "def parse_html(avg_factor_path, encoding = 'utf-8'):\n",
    "    with open(avg_factor_path, \"r\", encoding = encoding) as f:\n",
    "        html_doc = f.read()\n",
    "    #     print(html_doc)\n",
    "        soup = BeautifulSoup(html_doc, 'html.parser')\n",
    "        table = soup.find_all('table')[0] #the first table is the average factor table\n",
    "\n",
    "        table_rows = table.find_all('tr')[1:] #drop the first header\n",
    "        avg_data = []\n",
    "\n",
    "        for chunk in range(len(table_rows)):\n",
    "            chunk_res = table_rows[chunk].find_all('td')\n",
    "            year = int(chunk_res[0].text) #year in in the first td\n",
    "            avg_factor = float(chunk_res[-1].text.replace('$', '')) #year in in the last td\n",
    "            avg_data.append([year, avg_factor])\n",
    "    #         year = each_row.fina\n",
    "    #         print(row_year)\n",
    "    return avg_data\n",
    "    #         break\n",
    "    \n",
    "def sort_time_stamp(series):\n",
    "    dates = [datetime.datetime.strptime(entry, '%Y-%m-%d') for entry in series]\n",
    "    dates.sort()\n",
    "    sorted_dates = [datetime.datetime.strftime(entry, '%Y-%m-%d') for entry in dates]\n",
    "    return sorted_dates\n",
    "\n",
    "average_tickets = pd.DataFrame(parse_html(avg_factor_path), columns = ['year', 'average_ticket'])  \n",
    "average_tickets.to_csv('average_tickets.csv')\n",
    "#     table_row_break = table_row.text\n",
    "#     print(table_rows)"
   ]
  },
  {
   "cell_type": "code",
   "execution_count": 149,
   "metadata": {},
   "outputs": [],
   "source": [
    "disney = pd.read_csv('disney_movies_info.csv')#.drop('Unnamed: 0', axis = 1)\n",
    "\n",
    "# df.size()\n",
    "\n",
    "total_movie_box = pd.DataFrame({'date1': sort_time_stamp(disney.release_date),\n",
    "                                'value1': (disney.worldwide_earnings).astype(int),\n",
    "                                'movie1': disney.title})\n",
    "total_movie_box.to_json('assets/total_movie_box.json', orient='records')"
   ]
  },
  {
   "cell_type": "code",
   "execution_count": 156,
   "metadata": {},
   "outputs": [],
   "source": [
    "pixar = pd.read_csv('pixar_movies_info.csv')\n",
    "\n",
    "total_moive_box2 = pd.DataFrame({'date1': sort_time_stamp(pixar.release_date),\n",
    "                                'value1': (pixar.worldwide_earnings).astype(int),\n",
    "                                'movie1': pixar.title})\n",
    "total_moive_box2.to_json('assets/total_moive_box2.json', orient='records')\n",
    "# total_movie_box.sort_values('value1', ascending = False).iloc[:10, :]\n",
    "\n"
   ]
  },
  {
   "cell_type": "code",
   "execution_count": null,
   "metadata": {},
   "outputs": [],
   "source": []
  },
  {
   "cell_type": "code",
   "execution_count": null,
   "metadata": {},
   "outputs": [],
   "source": []
  },
  {
   "cell_type": "code",
   "execution_count": null,
   "metadata": {},
   "outputs": [],
   "source": []
  },
  {
   "cell_type": "code",
   "execution_count": null,
   "metadata": {},
   "outputs": [],
   "source": []
  }
 ],
 "metadata": {
  "kernelspec": {
   "display_name": "Python 3",
   "language": "python",
   "name": "python3"
  },
  "language_info": {
   "codemirror_mode": {
    "name": "ipython",
    "version": 3
   },
   "file_extension": ".py",
   "mimetype": "text/x-python",
   "name": "python",
   "nbconvert_exporter": "python",
   "pygments_lexer": "ipython3",
   "version": "3.7.0"
  }
 },
 "nbformat": 4,
 "nbformat_minor": 2
}
