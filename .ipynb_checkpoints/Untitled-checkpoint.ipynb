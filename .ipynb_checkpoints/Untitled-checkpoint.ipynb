{
 "cells": [
  {
   "cell_type": "code",
   "execution_count": 11,
   "metadata": {},
   "outputs": [],
   "source": [
    "import pandas as pd\n",
    "import numpy as np\n",
    "import matplotlib.pyplot as plt\n",
    "from bs4 import BeautifulSoup\n"
   ]
  },
  {
   "cell_type": "code",
   "execution_count": 12,
   "metadata": {},
   "outputs": [],
   "source": [
    "avg_factor_path = 'movie_market.html'"
   ]
  },
  {
   "cell_type": "code",
   "execution_count": 59,
   "metadata": {},
   "outputs": [],
   "source": [
    "def parse_html(avg_factor_path, encoding = 'utf-8'):\n",
    "    with open(avg_factor_path, \"r\", encoding = encoding) as f:\n",
    "        html_doc = f.read()\n",
    "    #     print(html_doc)\n",
    "        soup = BeautifulSoup(html_doc, 'html.parser')\n",
    "        table = soup.find_all('table')[0] #the first table is the average factor table\n",
    "\n",
    "        table_rows = table.find_all('tr')[1:] #drop the first header\n",
    "        avg_data = []\n",
    "\n",
    "        for chunk in range(len(table_rows)):\n",
    "            chunk_res = table_rows[chunk].find_all('td')\n",
    "            year = int(chunk_res[0].text) #year in in the first td\n",
    "            avg_factor = float(chunk_res[-1].text.replace('$', '')) #year in in the last td\n",
    "            avg_data.append([year, avg_factor])\n",
    "    #         year = each_row.fina\n",
    "    #         print(row_year)\n",
    "    return avg_data\n",
    "    #         break\n",
    "\n",
    "average_tickets = pd.DataFrame(parse_html(avg_factor_path), columns = ['year', 'average_ticket'])  \n",
    "average_tickets.to_csv('average_tickets.csv')\n",
    "#     table_row_break = table_row.text\n",
    "#     print(table_rows)"
   ]
  },
  {
   "cell_type": "code",
   "execution_count": null,
   "metadata": {},
   "outputs": [],
   "source": []
  },
  {
   "cell_type": "code",
   "execution_count": null,
   "metadata": {},
   "outputs": [],
   "source": []
  },
  {
   "cell_type": "code",
   "execution_count": null,
   "metadata": {},
   "outputs": [],
   "source": []
  },
  {
   "cell_type": "code",
   "execution_count": null,
   "metadata": {},
   "outputs": [],
   "source": []
  },
  {
   "cell_type": "code",
   "execution_count": null,
   "metadata": {},
   "outputs": [],
   "source": []
  },
  {
   "cell_type": "code",
   "execution_count": null,
   "metadata": {},
   "outputs": [],
   "source": []
  }
 ],
 "metadata": {
  "kernelspec": {
   "display_name": "Python 3",
   "language": "python",
   "name": "python3"
  },
  "language_info": {
   "codemirror_mode": {
    "name": "ipython",
    "version": 3
   },
   "file_extension": ".py",
   "mimetype": "text/x-python",
   "name": "python",
   "nbconvert_exporter": "python",
   "pygments_lexer": "ipython3",
   "version": "3.7.0"
  }
 },
 "nbformat": 4,
 "nbformat_minor": 2
}
